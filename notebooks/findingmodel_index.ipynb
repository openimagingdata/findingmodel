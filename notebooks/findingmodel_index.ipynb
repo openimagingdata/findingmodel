{
 "cells": [
  {
   "cell_type": "markdown",
   "id": "6dbc4d72",
   "metadata": {},
   "source": [
    "# FindingModel Index"
   ]
  },
  {
   "cell_type": "code",
   "execution_count": 1,
   "id": "3a40acb3",
   "metadata": {},
   "outputs": [],
   "source": [
    "from pprint import pprint\n",
    "\n",
    "from findingmodel import ChoiceAttributeIded, ChoiceValueIded, FindingModelFull, NumericAttributeIded\n",
    "from findingmodel.index import Index, IndexEntry"
   ]
  },
  {
   "cell_type": "markdown",
   "id": "a15c0970",
   "metadata": {},
   "source": [
    "`Index` is a list of the basic metadata about a model. It is stored in a MongoDB collection, \n",
    "which is configured using environment variables: `MONGODB_URI` (default: localhost connection) \n",
    "and `MONGODB_DB` (defaults to `findingmodels`). (The names of the collections for model index\n",
    "entries, people, and organizations can also be configured.)\n",
    "\n",
    "The index can be populated from a directory of `*.fm.json` files containing model definitions, \n",
    "such as at the [findingmodels repository](https://github.com/openimagingdata/findingmodels). \n",
    "There is also a method (`update_from_directory()`) that will examine a directory of model \n",
    "definitions and add new files, update changed files, and remove deleted files."
   ]
  },
  {
   "cell_type": "code",
   "execution_count": 2,
   "id": "f2fa4748",
   "metadata": {},
   "outputs": [],
   "source": [
    "index = Index()"
   ]
  },
  {
   "cell_type": "code",
   "execution_count": 3,
   "id": "cc784739",
   "metadata": {},
   "outputs": [
    {
     "data": {
      "text/plain": [
       "1949"
      ]
     },
     "execution_count": 3,
     "metadata": {},
     "output_type": "execute_result"
    }
   ],
   "source": [
    "await index.count()"
   ]
  },
  {
   "cell_type": "markdown",
   "id": "8674df75",
   "metadata": {},
   "source": [
    "Get an entry from the index (metadata only; use `load_model()` to actually get the finding model) using ID, name, or one of its synonyms."
   ]
  },
  {
   "cell_type": "code",
   "execution_count": 4,
   "id": "051f532e",
   "metadata": {},
   "outputs": [
    {
     "name": "stdout",
     "output_type": "stream",
     "text": [
      "{\n",
      "  \"oifm_id\": \"OIFM_MSFT_134126\",\n",
      "  \"name\": \"abdominal aortic aneurysm\",\n",
      "  \"slug_name\": \"abdominal_aortic_aneurysm\",\n",
      "  \"filename\": \"abdominal_aortic_aneurysm.fm.json\",\n",
      "  \"file_hash_sha256\": \"36fe838b81f63a5d5da6b1c1a2a30a1900444db36da3c9870f8a4f6276a5b6ec\",\n",
      "  \"description\": \"An abdominal aortic aneurysm (AAA) is a localized dilation of the abdominal aorta, typically defined as a diameter greater than 3 cm, which can lead to rupture and significant morbidity or mortality.\",\n",
      "  \"synonyms\": [\n",
      "    \"AAA\"\n",
      "  ],\n",
      "  \"tags\": null,\n",
      "  \"contributors\": [\n",
      "    \"HeatherChase\"\n",
      "  ],\n",
      "  \"attributes\": [\n",
      "    {\n",
      "      \"attribute_id\": \"OIFMA_MSFT_898601\",\n",
      "      \"name\": \"presence\",\n",
      "      \"type\": \"choice\"\n",
      "    },\n",
      "    {\n",
      "      \"attribute_id\": \"OIFMA_MSFT_783072\",\n",
      "      \"name\": \"change from prior\",\n",
      "      \"type\": \"choice\"\n",
      "    }\n",
      "  ]\n",
      "}\n"
     ]
    }
   ],
   "source": [
    "entry = await index.get(\"abdominal aortic aneurysm\")\n",
    "assert isinstance(entry, IndexEntry)\n",
    "print(entry.model_dump_json(indent=2))"
   ]
  },
  {
   "cell_type": "markdown",
   "id": "601e90ba",
   "metadata": {},
   "source": [
    "## Add/Remove Model\n",
    "\n",
    "Note that adding a model performs a number of checks, especially for duplicate IDs, duplicated names, duplicate synonyms."
   ]
  },
  {
   "cell_type": "code",
   "execution_count": 5,
   "id": "6629aa12",
   "metadata": {},
   "outputs": [],
   "source": [
    "new_model = FindingModelFull(\n",
    "    oifm_id=\"OIFM_TEST_123456\",\n",
    "    name=\"Test Model\",\n",
    "    description=\"A simple test finding model.\",\n",
    "    synonyms=[\"Test Synonym\"],\n",
    "    tags=[\"tag1\", \"tag2\"],\n",
    "    attributes=[\n",
    "        ChoiceAttributeIded(\n",
    "            oifma_id=\"OIFMA_TEST_123456\",\n",
    "            name=\"Severity\",\n",
    "            description=\"How severe is the finding?\",\n",
    "            values=[\n",
    "                ChoiceValueIded(value_code=\"OIFMA_TEST_123456.0\", name=\"Mild\"),\n",
    "                ChoiceValueIded(value_code=\"OIFMA_TEST_123456.1\", name=\"Severe\"),\n",
    "            ],\n",
    "            required=True,\n",
    "            max_selected=1,\n",
    "        ),\n",
    "        NumericAttributeIded(\n",
    "            oifma_id=\"OIFMA_TEST_654321\",\n",
    "            name=\"Size\",\n",
    "            description=\"Size of the finding.\",\n",
    "            minimum=1,\n",
    "            maximum=10,\n",
    "            unit=\"cm\",\n",
    "            required=False,\n",
    "        ),\n",
    "    ],\n",
    ")\n",
    "with open(\"test_model.fm.json\", \"w\") as f:\n",
    "    f.write(new_model.model_dump_json(indent=2))"
   ]
  },
  {
   "cell_type": "code",
   "execution_count": 6,
   "id": "9afa092b",
   "metadata": {},
   "outputs": [
    {
     "data": {
      "text/plain": [
       "<IndexReturnType.ADDED: 'added'>"
      ]
     },
     "execution_count": 6,
     "metadata": {},
     "output_type": "execute_result"
    }
   ],
   "source": [
    "await index.add_or_update_entry_from_file(\"test_model.fm.json\")"
   ]
  },
  {
   "cell_type": "code",
   "execution_count": 7,
   "id": "4e8e56d9",
   "metadata": {},
   "outputs": [
    {
     "data": {
      "text/plain": [
       "1950"
      ]
     },
     "execution_count": 7,
     "metadata": {},
     "output_type": "execute_result"
    }
   ],
   "source": [
    "await index.count()"
   ]
  },
  {
   "cell_type": "code",
   "execution_count": 8,
   "id": "56ae460c",
   "metadata": {},
   "outputs": [
    {
     "data": {
      "text/plain": [
       "1949"
      ]
     },
     "execution_count": 8,
     "metadata": {},
     "output_type": "execute_result"
    }
   ],
   "source": [
    "await index.remove_entry(\"Test Model\")  # Can either use name or OIFM ID\n",
    "await index.count()"
   ]
  },
  {
   "cell_type": "markdown",
   "id": "5bfb4900",
   "metadata": {},
   "source": [
    "## Synchronize with a Definition Directory\n",
    "\n",
    "You can use `update_from_directory()` to update the state of the index from the definition files in \n",
    "directory."
   ]
  },
  {
   "cell_type": "code",
   "execution_count": 12,
   "id": "2e031614",
   "metadata": {},
   "outputs": [],
   "source": [
    "from pathlib import Path\n",
    "\n",
    "added, updated, removed = await index.update_from_directory(Path.cwd().parent.parent / \"findingmodels\" / \"defs\")"
   ]
  },
  {
   "cell_type": "code",
   "execution_count": 13,
   "id": "9137f7e5",
   "metadata": {},
   "outputs": [
    {
     "name": "stdout",
     "output_type": "stream",
     "text": [
      "0 0 0\n"
     ]
    }
   ],
   "source": [
    "print(added, updated, removed)"
   ]
  },
  {
   "cell_type": "code",
   "execution_count": 14,
   "id": "c0756eec",
   "metadata": {},
   "outputs": [
    {
     "data": {
      "text/plain": [
       "1949"
      ]
     },
     "execution_count": 14,
     "metadata": {},
     "output_type": "execute_result"
    }
   ],
   "source": [
    "await index.count()"
   ]
  },
  {
   "cell_type": "markdown",
   "id": "fd823783",
   "metadata": {},
   "source": [
    "## Name Search\n",
    "\n",
    "Look for hits fuzzily matching a target string. Might be useful for finding potential duplicates before inserting, or just to quickly\n",
    "search in general. Hits can come from the name or synonyms (not description)."
   ]
  },
  {
   "cell_type": "code",
   "execution_count": 15,
   "id": "194cc7a6",
   "metadata": {},
   "outputs": [
    {
     "name": "stdout",
     "output_type": "stream",
     "text": [
      "[IndexEntry(oifm_id='OIFM_GMTS_002860', name='large abdominal gas pocket', slug_name='large_abdominal_gas_pocket', filename='large_abdominal_gas_pocket.fm.json', file_hash_sha256='1774124e4b0d080e82c6f59dfbb1573176f843bc52f468ee26313fb2c2167274', description='A substantial amount of gas in the abdominal cavity, often secondary to perforation or surgery.', synonyms=['Abdominal pneumoperitoneum', 'Gas under diaphragm'], tags=['abdomen', 'CT', 'XR', 'abdominal', 'air-filled', 'finding'], contributors=['GMTS'], attributes=[AttributeInfo(attribute_id='OIFMA_GMTS_816071', name='presence', type='choice'), AttributeInfo(attribute_id='OIFMA_GMTS_316586', name='change from prior', type='choice')]),\n",
      " IndexEntry(oifm_id='OIFM_GMTS_005202', name='layering abdominal calcifications', slug_name='layering_abdominal_calcifications', filename='layering_abdominal_calcifications.fm.json', file_hash_sha256='d76f3142c89e1bd70a2a8270a7fa919c2be159eade4ce2d840051f526f4532b1', description='Calcifications seen within the abdominal cavity with a stratified or laminated appearance.', synonyms=['Abdominal calcification deposition', 'Stratified calcifications'], tags=['abdomen', 'CT', 'XR', 'abdominal', 'calcific', 'finding'], contributors=['GMTS'], attributes=[AttributeInfo(attribute_id='OIFMA_GMTS_450757', name='presence', type='choice'), AttributeInfo(attribute_id='OIFMA_GMTS_241367', name='change from prior', type='choice')]),\n",
      " IndexEntry(oifm_id='OIFM_GMTS_003058', name='abdominal wall mass', slug_name='abdominal_wall_mass', filename='abdominal_wall_mass.fm.json', file_hash_sha256='23db9e583c3a01bc37a7af48d6b5f47f116e2eba353d3869bd87c1358c2018bc', description='A mass located in the abdominal wall tissue', synonyms=['abdominal lump'], tags=['ultrasound', 'CT', 'US', 'MR', 'abdomen', 'mass', 'finding'], contributors=['GMTS'], attributes=[AttributeInfo(attribute_id='OIFMA_GMTS_650918', name='presence', type='choice'), AttributeInfo(attribute_id='OIFMA_GMTS_182216', name='change from prior', type='choice')]),\n",
      " IndexEntry(oifm_id='OIFM_GMTS_003106', name='abdominal lymphadenopathy', slug_name='abdominal_lymphadenopathy', filename='abdominal_lymphadenopathy.fm.json', file_hash_sha256='ce518d93cc87d58830809fd51b52ba9d15abd1f9c27b33480b9e023b7dee9963', description='Enlarged lymph nodes in the abdominal region', synonyms=['abdominal lymph node enlargement'], tags=['ultrasound', 'CT', 'US', 'MR', 'abdomen', 'lymphatic', 'finding'], contributors=['GMTS'], attributes=[AttributeInfo(attribute_id='OIFMA_GMTS_654419', name='presence', type='choice'), AttributeInfo(attribute_id='OIFMA_GMTS_384081', name='change from prior', type='choice')]),\n",
      " IndexEntry(oifm_id='OIFM_GMTS_003049', name='abdominal wall calcification', slug_name='abdominal_wall_calcification', filename='abdominal_wall_calcification.fm.json', file_hash_sha256='b9a525f56a674f68e3849779e6017a198439bc0c8d6e895e24eea8eb3d45d25e', description='Calcium deposits located in the abdominal wall', synonyms=['calcified abdominal wall'], tags=['abdomen', 'CT', 'XR', 'US', 'abdomen', 'calcification', 'anatomical', 'finding'], contributors=['GMTS'], attributes=[AttributeInfo(attribute_id='OIFMA_GMTS_453234', name='presence', type='choice'), AttributeInfo(attribute_id='OIFMA_GMTS_894990', name='change from prior', type='choice')]),\n",
      " IndexEntry(oifm_id='OIFM_GMTS_004323', name='congenital abdominal calcifications', slug_name='congenital_abdominal_calcifications', filename='congenital_abdominal_calcifications.fm.json', file_hash_sha256='afd4589042e17c8012b094717271e8edf2a8c962af05e95ba4ea6e416d38ac6b', description='Calcifications within the abdomen present from birth.', synonyms=['abdominal calcifications'], tags=['ultrasound', 'CT', 'XR', 'abdominal', 'congenital', 'calcifications', 'finding'], contributors=['GMTS'], attributes=[AttributeInfo(attribute_id='OIFMA_GMTS_850660', name='presence', type='choice'), AttributeInfo(attribute_id='OIFMA_GMTS_557171', name='change from prior', type='choice')]),\n",
      " IndexEntry(oifm_id='OIFM_GMTS_004244', name='abdominal abscess', slug_name='abdominal_abscess', filename='abdominal_abscess.fm.json', file_hash_sha256='4a287da293f0a9952045d9b4a99b61b007b2be74c5c43f910c75cdb7b904fbef', description='A localized collection of pus in the abdomen', synonyms=['intra-abdominal abscess'], tags=['ultrasound', 'CT', 'US', 'MR', 'abdomen', 'inflammatory', 'diagnosis'], contributors=['GMTS'], attributes=[AttributeInfo(attribute_id='OIFMA_GMTS_384452', name='presence', type='choice'), AttributeInfo(attribute_id='OIFMA_GMTS_842899', name='change from prior', type='choice')]),\n",
      " IndexEntry(oifm_id='OIFM_GMTS_005517', name='lower abdominal mass in a neonate or child', slug_name='lower_abdominal_mass_in_a_neonate_or_child', filename='lower_abdominal_mass_in_a_neonate_or_child.fm.json', file_hash_sha256='a2c4f781cc079b52a2ba371215fc68b5beabdb90589d712c157ca785f2d78a89', description='A mass detected in the lower abdomen of a neonate or child.', synonyms=['pediatric abdominal mass'], tags=['ultrasound', 'US', 'CT', 'MR', 'abdominal', 'pediatric', 'finding'], contributors=['GMTS'], attributes=[AttributeInfo(attribute_id='OIFMA_GMTS_888934', name='presence', type='choice'), AttributeInfo(attribute_id='OIFMA_GMTS_053635', name='change from prior', type='choice')]),\n",
      " IndexEntry(oifm_id='OIFM_GMTS_004709', name='abdominal calcification in an infant or child', slug_name='abdominal_calcification_in_an_infant_or_child', filename='abdominal_calcification_in_an_infant_or_child.fm.json', file_hash_sha256='ff84c5cb3a1205ecad99481345b8750cb748d02c2af038a9921c53c4e65fb541', description='Deposition of calcium in the abdomen observed in children or infants', synonyms=['calcified abdominal mass'], tags=['ultrasound', 'CT', 'XR', 'US', 'abdomen', 'pediatric', 'finding'], contributors=['GMTS'], attributes=[AttributeInfo(attribute_id='OIFMA_GMTS_082050', name='presence', type='choice'), AttributeInfo(attribute_id='OIFMA_GMTS_450207', name='change from prior', type='choice')]),\n",
      " IndexEntry(oifm_id='OIFM_GMTS_019115', name='fetal anterior abdominal wall defect', slug_name='fetal_anterior_abdominal_wall_defect', filename='fetal_anterior_abdominal_wall_defect.fm.json', file_hash_sha256='424e42a982f6372b151ac4830c0162600bb3ec1424fa14ae898e55d6bef13087', description='Congenital anomaly where the abdominal wall does not form properly, exposing the abdominal organs', synonyms=None, tags=['ultrasound', 'US', 'congenital anomaly', 'fetal', 'abdominal', 'diagnosis'], contributors=['GMTS'], attributes=[AttributeInfo(attribute_id='OIFMA_GMTS_613382', name='presence', type='choice'), AttributeInfo(attribute_id='OIFMA_GMTS_951060', name='change from prior', type='choice')])]\n"
     ]
    }
   ],
   "source": [
    "results = await index.search(\"abdominal\")\n",
    "pprint(results)"
   ]
  },
  {
   "cell_type": "code",
   "execution_count": 16,
   "id": "dcf64078",
   "metadata": {},
   "outputs": [
    {
     "name": "stdout",
     "output_type": "stream",
     "text": [
      "[IndexEntry(oifm_id='OIFM_MSFT_914493', name='breast calcification cluster', slug_name='breast_calcification_cluster', filename='breast_calcification_cluster.fm.json', file_hash_sha256='b17373bc40f53923d0e82e7bcbb4f3de3d15c33209978bf213d4e47d5c425add', description='Breast calcification clusters are typically a sign of benign changes in breast tissue but can sometimes indicate malignancy.', synonyms=['breast calcifications'], tags=['breast', 'calcification'], contributors=['HeatherChase'], attributes=[AttributeInfo(attribute_id='OIFMA_MSFT_661936', name='calcification cluster presence', type='choice'), AttributeInfo(attribute_id='OIFMA_MSFT_742222', name='location', type='choice'), AttributeInfo(attribute_id='OIFMA_MSFT_661937', name='number of calcifications', type='numeric')]),\n",
      " IndexEntry(oifm_id='OIFM_MSFT_356221', name='Breast density', slug_name='breast_density', filename='breast_density.fm.json', file_hash_sha256='416ba8b8166a7fdd0278ad040f00f89066c0d2e7ad936a47846348df9be567a5', description='Breast density refers to the proportion of fatty tissue to fibroglandular tissue in the breast as seen on a mammogram.', synonyms=['Mammographic density', 'Breast tissue density'], tags=None, contributors=['HeatherChase'], attributes=[AttributeInfo(attribute_id='OIFMA_MSFT_806368', name='density score', type='numeric'), AttributeInfo(attribute_id='OIFMA_MSFT_765716', name='density category', type='choice')]),\n",
      " IndexEntry(oifm_id='OIFM_MSFT_255181', name='breast soft tissue lesion', slug_name='breast_soft_tissue_lesion', filename='breast_soft_tissue_lesion.fm.json', file_hash_sha256='0fe18f9331eb8573111713f5a91d491fb99cf682daec62648c5b586808eda73a', description='A breast soft tissue lesion refers to any abnormal growth or mass within the soft tissue of the breast, which may include various entities such as cysts, fibromas, or malignant tumors, typically identified through imaging modalities like mammography or ultrasound.', synonyms=['Breast Mass', 'Mammary Soft Tissue Lesion'], tags=None, contributors=['HeatherChase'], attributes=[AttributeInfo(attribute_id='OIFMA_MSFT_113477', name='presence', type='choice'), AttributeInfo(attribute_id='OIFMA_MSFT_742224', name='location', type='choice')]),\n",
      " IndexEntry(oifm_id='OIFM_MSFT_156954', name='Mammographic malignancy assessment', slug_name='mammographic_malignancy_assessment', filename='breast_malignancy_risk.fm.json', file_hash_sha256='9020c988492d6dd40dc3364ead0e11047eab1025200bf16ab7c08beda03f5c44', description='Estimates of the likelihood of malignancy based on mammography features.', synonyms=['Risk of breast cancer', 'Case Score', 'Breast cancer risk assessment'], tags=None, contributors=['HeatherChase'], attributes=[AttributeInfo(attribute_id='OIFMA_MSFT_825588', name='Case Score', type='numeric')]),\n",
      " IndexEntry(oifm_id='OIFM_GMTS_012667', name='pectus carinatum', slug_name='pectus_carinatum', filename='pectus_carinatum.fm.json', file_hash_sha256='3cfe90a9fc544465c5d657617d7e04b2bcbd1e6947ede30906dabe28e2f2a458', description='Chest wall deformity characterized by a protruding sternum.', synonyms=['pigeon breast', 'pigeon chest'], tags=['musculoskeletal', 'XR', 'CT', 'chest', 'thoracic', 'congenital anomaly', 'diagnosis'], contributors=['GMTS'], attributes=[AttributeInfo(attribute_id='OIFMA_GMTS_990977', name='presence', type='choice'), AttributeInfo(attribute_id='OIFMA_GMTS_783820', name='change from prior', type='choice')])]\n"
     ]
    }
   ],
   "source": [
    "results = await index.search(\"breast\")\n",
    "pprint(results)"
   ]
  },
  {
   "cell_type": "code",
   "execution_count": 17,
   "id": "5ef8b6e3",
   "metadata": {},
   "outputs": [
    {
     "name": "stdout",
     "output_type": "stream",
     "text": [
      "[IndexEntry(oifm_id='OIFM_MSFT_356221', name='Breast density', slug_name='breast_density', filename='breast_density.fm.json', file_hash_sha256='416ba8b8166a7fdd0278ad040f00f89066c0d2e7ad936a47846348df9be567a5', description='Breast density refers to the proportion of fatty tissue to fibroglandular tissue in the breast as seen on a mammogram.', synonyms=['Mammographic density', 'Breast tissue density'], tags=None, contributors=['HeatherChase'], attributes=[AttributeInfo(attribute_id='OIFMA_MSFT_806368', name='density score', type='numeric'), AttributeInfo(attribute_id='OIFMA_MSFT_765716', name='density category', type='choice')])]\n"
     ]
    }
   ],
   "source": [
    "results = await index.search(\"mammogram\")\n",
    "pprint(results)"
   ]
  },
  {
   "cell_type": "code",
   "execution_count": null,
   "id": "e6adc352",
   "metadata": {},
   "outputs": [],
   "source": []
  }
 ],
 "metadata": {
  "kernelspec": {
   "display_name": "findingmodel",
   "language": "python",
   "name": "python3"
  },
  "language_info": {
   "codemirror_mode": {
    "name": "ipython",
    "version": 3
   },
   "file_extension": ".py",
   "mimetype": "text/x-python",
   "name": "python",
   "nbconvert_exporter": "python",
   "pygments_lexer": "ipython3",
   "version": "3.11.13"
  }
 },
 "nbformat": 4,
 "nbformat_minor": 5
}
