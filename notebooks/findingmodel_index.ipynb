{
 "cells": [
  {
   "cell_type": "markdown",
   "id": "6dbc4d72",
   "metadata": {},
   "source": [
    "# FindingModel Index"
   ]
  },
  {
   "cell_type": "code",
   "execution_count": 1,
   "id": "3a40acb3",
   "metadata": {},
   "outputs": [],
   "source": [
    "from pprint import pprint\n",
    "\n",
    "from findingmodel import ChoiceAttributeIded, ChoiceValueIded, FindingModelFull, NumericAttributeIded\n",
    "from findingmodel.index import Index"
   ]
  },
  {
   "cell_type": "markdown",
   "id": "a15c0970",
   "metadata": {},
   "source": [
    "`Index` is a list of the basic metadata about a model. It can be loaded from a JSONL file, \n",
    "or it can be extracted from a directory of `*.fm.json` files containing model definitions.\n",
    "The index is defined with a path to a directory containing a `defs` directory containing the\n",
    "model definitions, and may contain a `index.jsonl` file at the same level as the definitions \n",
    "directory. (Like the [findingmodels repository](https://github.com/openimagingdata/findingmodels))"
   ]
  },
  {
   "cell_type": "code",
   "execution_count": 2,
   "id": "f2fa4748",
   "metadata": {},
   "outputs": [],
   "source": [
    "index = Index(\"data\")"
   ]
  },
  {
   "cell_type": "code",
   "execution_count": 3,
   "id": "cc784739",
   "metadata": {},
   "outputs": [
    {
     "data": {
      "text/plain": [
       "6"
      ]
     },
     "execution_count": 3,
     "metadata": {},
     "output_type": "execute_result"
    }
   ],
   "source": [
    "len(index)"
   ]
  },
  {
   "cell_type": "markdown",
   "id": "8674df75",
   "metadata": {},
   "source": [
    "Get an entry from the index (metadata only; use `load_model()` to actually get the finding model) using ID, name, or one of its synonyms."
   ]
  },
  {
   "cell_type": "code",
   "execution_count": 4,
   "id": "051f532e",
   "metadata": {},
   "outputs": [
    {
     "name": "stdout",
     "output_type": "stream",
     "text": [
      "{'attributes': [{'attribute_id': 'OIFMA_MSFT_898601',\n",
      "                 'name': 'presence',\n",
      "                 'type': 'choice'},\n",
      "                {'attribute_id': 'OIFMA_MSFT_783072',\n",
      "                 'name': 'change from prior',\n",
      "                 'type': 'choice'}],\n",
      " 'contributors': ['HeatherChase', 'MSFT'],\n",
      " 'description': 'An abdominal aortic aneurysm (AAA) is a localized dilation of '\n",
      "                'the abdominal aorta, typically defined as a diameter greater '\n",
      "                'than 3 cm, which can lead to rupture and significant '\n",
      "                'morbidity or mortality.',\n",
      " 'filename': 'abdominal_aortic_aneurysm.fm.json',\n",
      " 'name': 'abdominal aortic aneurysm',\n",
      " 'oifm_id': 'OIFM_MSFT_134126',\n",
      " 'synonyms': ['AAA'],\n",
      " 'tags': None}\n"
     ]
    }
   ],
   "source": [
    "entry = index[\"abdominal aortic aneurysm\"]\n",
    "if entry:\n",
    "    pprint(entry.model_dump())\n",
    "else:\n",
    "    print(\"Entry not found.\")"
   ]
  },
  {
   "cell_type": "code",
   "execution_count": 5,
   "id": "22835f4f",
   "metadata": {},
   "outputs": [
    {
     "name": "stdout",
     "output_type": "stream",
     "text": [
      "['Ventricular diameters',\n",
      " 'Mammographic malignancy assessment',\n",
      " 'pulmonary embolism',\n",
      " 'abdominal aortic aneurysm',\n",
      " 'Breast density',\n",
      " 'aortic dissection']\n"
     ]
    }
   ],
   "source": [
    "pprint([entry.name for entry in index.entries])"
   ]
  },
  {
   "cell_type": "markdown",
   "id": "601e90ba",
   "metadata": {},
   "source": [
    "## Add/Remove Model\n",
    "\n",
    "Note that adding a model performs a number of checks, especially for duplicate IDs, duplicated names, duplicate synonyms."
   ]
  },
  {
   "cell_type": "code",
   "execution_count": 6,
   "id": "6629aa12",
   "metadata": {},
   "outputs": [],
   "source": [
    "new_model = FindingModelFull(\n",
    "    oifm_id=\"OIFM_TEST_123456\",\n",
    "    name=\"Test Model\",\n",
    "    description=\"A simple test finding model.\",\n",
    "    synonyms=[\"Test Synonym\"],\n",
    "    tags=[\"tag1\", \"tag2\"],\n",
    "    attributes=[\n",
    "        ChoiceAttributeIded(\n",
    "            oifma_id=\"OIFMA_TEST_123456\",\n",
    "            name=\"Severity\",\n",
    "            description=\"How severe is the finding?\",\n",
    "            values=[\n",
    "                ChoiceValueIded(value_code=\"OIFMA_TEST_123456.0\", name=\"Mild\"),\n",
    "                ChoiceValueIded(value_code=\"OIFMA_TEST_123456.1\", name=\"Severe\"),\n",
    "            ],\n",
    "            required=True,\n",
    "            max_selected=1,\n",
    "        ),\n",
    "        NumericAttributeIded(\n",
    "            oifma_id=\"OIFMA_TEST_654321\",\n",
    "            name=\"Size\",\n",
    "            description=\"Size of the finding.\",\n",
    "            minimum=1,\n",
    "            maximum=10,\n",
    "            unit=\"cm\",\n",
    "            required=False,\n",
    "        ),\n",
    "    ],\n",
    ")"
   ]
  },
  {
   "cell_type": "code",
   "execution_count": 7,
   "id": "9afa092b",
   "metadata": {},
   "outputs": [],
   "source": [
    "index.add_entry(new_model, \"test_model.fm.json\")"
   ]
  },
  {
   "cell_type": "code",
   "execution_count": 8,
   "id": "4e8e56d9",
   "metadata": {},
   "outputs": [
    {
     "name": "stdout",
     "output_type": "stream",
     "text": [
      "['Ventricular diameters',\n",
      " 'Mammographic malignancy assessment',\n",
      " 'pulmonary embolism',\n",
      " 'abdominal aortic aneurysm',\n",
      " 'Breast density',\n",
      " 'aortic dissection',\n",
      " 'Test Model']\n"
     ]
    }
   ],
   "source": [
    "pprint([entry.name for entry in index.entries])"
   ]
  },
  {
   "cell_type": "code",
   "execution_count": 9,
   "id": "56ae460c",
   "metadata": {},
   "outputs": [
    {
     "name": "stdout",
     "output_type": "stream",
     "text": [
      "None\n"
     ]
    }
   ],
   "source": [
    "index.remove_entry(\"Test Model\")\n",
    "print(index[\"Test Model\"])"
   ]
  },
  {
   "cell_type": "markdown",
   "id": "70d936c2",
   "metadata": {},
   "source": [
    "## Get Full Model from File"
   ]
  },
  {
   "cell_type": "code",
   "execution_count": 10,
   "id": "50ff8fb8",
   "metadata": {},
   "outputs": [
    {
     "name": "stdout",
     "output_type": "stream",
     "text": [
      "{\n",
      "  \"oifm_id\": \"OIFM_MSFT_134126\",\n",
      "  \"name\": \"abdominal aortic aneurysm\",\n",
      "  \"description\": \"An abdominal aortic aneurysm (AAA) is a localized dilation of the abdominal aorta, typically defined as a diameter greater than 3 cm, which can lead to rupture and significant morbidity or mortality.\",\n",
      "  \"synonyms\": [\n",
      "    \"AAA\"\n",
      "  ],\n",
      "  \"contributors\": [\n",
      "    {\n",
      "      \"github_username\": \"HeatherChase\",\n",
      "      \"email\": \"heatherchase@microsoft.com\",\n",
      "      \"name\": \"Heather Chase\",\n",
      "      \"organization_code\": \"MSFT\",\n",
      "      \"url\": \"https://www.linkedin.com/in/heatherwalkerchase/\"\n",
      "    },\n",
      "    {\n",
      "      \"name\": \"Microsoft\",\n",
      "      \"code\": \"MSFT\",\n",
      "      \"url\": \"https://microsoft.com/\"\n",
      "    }\n",
      "  ],\n",
      "  \"attributes\": [\n",
      "    {\n",
      "      \"oifma_id\": \"OIFMA_MSFT_898601\",\n",
      "      \"name\": \"presence\",\n",
      "      \"description\": \"Presence or absence of abdominal aortic aneurysm\",\n",
      "      \"type\": \"choice\",\n",
      "      \"values\": [\n",
      "        {\n",
      "          \"value_code\": \"OIFMA_MSFT_898601.0\",\n",
      "          \"name\": \"absent\",\n",
      "          \"description\": \"Abdominal aortic aneurysm is absent\"\n",
      "        },\n",
      "        {\n",
      "          \"value_code\": \"OIFMA_MSFT_898601.1\",\n",
      "          \"name\": \"present\",\n",
      "          \"description\": \"Abdominal aortic aneurysm is present\"\n",
      "        },\n",
      "        {\n",
      "          \"value_code\": \"OIFMA_MSFT_898601.2\",\n",
      "          \"name\": \"indeterminate\",\n",
      "          \"description\": \"Presence of abdominal aortic aneurysm cannot be determined\"\n",
      "        },\n",
      "        {\n",
      "          \"value_code\": \"OIFMA_MSFT_898601.3\",\n",
      "          \"name\": \"unknown\",\n",
      "          \"description\": \"Presence of abdominal aortic aneurysm is unknown\"\n",
      "        }\n",
      "      ],\n",
      "      \"required\": false,\n",
      "      \"max_selected\": 1\n",
      "    },\n",
      "    {\n",
      "      \"oifma_id\": \"OIFMA_MSFT_783072\",\n",
      "      \"name\": \"change from prior\",\n",
      "      \"description\": \"Whether and how a abdominal aortic aneurysm has changed over time\",\n",
      "      \"type\": \"choice\",\n",
      "      \"values\": [\n",
      "        {\n",
      "          \"value_code\": \"OIFMA_MSFT_783072.0\",\n",
      "          \"name\": \"unchanged\",\n",
      "          \"description\": \"Abdominal aortic aneurysm is unchanged\"\n",
      "        },\n",
      "        {\n",
      "          \"value_code\": \"OIFMA_MSFT_783072.1\",\n",
      "          \"name\": \"stable\",\n",
      "          \"description\": \"Abdominal aortic aneurysm is stable\"\n",
      "        },\n",
      "        {\n",
      "          \"value_code\": \"OIFMA_MSFT_783072.2\",\n",
      "          \"name\": \"increased\",\n",
      "          \"description\": \"Abdominal aortic aneurysm has increased\"\n",
      "        },\n",
      "        {\n",
      "          \"value_code\": \"OIFMA_MSFT_783072.3\",\n",
      "          \"name\": \"decreased\",\n",
      "          \"description\": \"Abdominal aortic aneurysm has decreased\"\n",
      "        },\n",
      "        {\n",
      "          \"value_code\": \"OIFMA_MSFT_783072.4\",\n",
      "          \"name\": \"new\",\n",
      "          \"description\": \"Abdominal aortic aneurysm is new\"\n",
      "        }\n",
      "      ],\n",
      "      \"required\": false,\n",
      "      \"max_selected\": 1\n",
      "    }\n",
      "  ]\n",
      "}\n"
     ]
    }
   ],
   "source": [
    "model = index.load_model(\"abdominal aortic aneurysm\")\n",
    "if model:\n",
    "    print(model.model_dump_json(indent=2, exclude_none=True))\n",
    "else:\n",
    "    print(\"Model not found.\")"
   ]
  },
  {
   "cell_type": "markdown",
   "id": "fd823783",
   "metadata": {},
   "source": [
    "## Name Search\n",
    "\n",
    "Look for hits fuzzily matching a target string. Might be useful for finding potential duplicates before inserting, or just to quickly\n",
    "search in general. Hits can come from the name or synonyms (not description)."
   ]
  },
  {
   "cell_type": "code",
   "execution_count": 11,
   "id": "194cc7a6",
   "metadata": {},
   "outputs": [
    {
     "name": "stdout",
     "output_type": "stream",
     "text": [
      "[('abdominal aortic aneurysm', 77.14285714285715),\n",
      " ('Breast density', 51.42857142857142),\n",
      " ('Mammographic density', 51.300000000000004)]\n"
     ]
    }
   ],
   "source": [
    "results = index.find_similar_names(\"abdomen\")\n",
    "pprint(results)"
   ]
  },
  {
   "cell_type": "code",
   "execution_count": 12,
   "id": "dcf64078",
   "metadata": {},
   "outputs": [
    {
     "name": "stdout",
     "output_type": "stream",
     "text": [
      "[('Breast density', 90.0),\n",
      " ('Risk of breast cancer', 90.0),\n",
      " ('Breast cancer risk assessment', 90.0)]\n"
     ]
    }
   ],
   "source": [
    "results = index.find_similar_names(\"breast\")\n",
    "pprint(results)"
   ]
  },
  {
   "cell_type": "code",
   "execution_count": 13,
   "id": "5ef8b6e3",
   "metadata": {},
   "outputs": [
    {
     "name": "stdout",
     "output_type": "stream",
     "text": [
      "[('Mammographic malignancy assessment', 84.70588235294117),\n",
      " ('Mammographic density', 84.70588235294117),\n",
      " ('aortic dissection', 45.0)]\n"
     ]
    }
   ],
   "source": [
    "results = index.find_similar_names(\"mammogram\")\n",
    "pprint(results)"
   ]
  }
 ],
 "metadata": {
  "kernelspec": {
   "display_name": "findingmodel",
   "language": "python",
   "name": "python3"
  },
  "language_info": {
   "codemirror_mode": {
    "name": "ipython",
    "version": 3
   },
   "file_extension": ".py",
   "mimetype": "text/x-python",
   "name": "python",
   "nbconvert_exporter": "python",
   "pygments_lexer": "ipython3",
   "version": "3.11.12"
  }
 },
 "nbformat": 4,
 "nbformat_minor": 5
}
