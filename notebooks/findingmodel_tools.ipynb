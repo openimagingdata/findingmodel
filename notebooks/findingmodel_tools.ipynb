{
 "cells": [
  {
   "cell_type": "markdown",
   "id": "852bf027",
   "metadata": {},
   "source": [
    "# `findingmodel` Demo"
   ]
  },
  {
   "cell_type": "code",
   "execution_count": 1,
   "id": "65a16d49",
   "metadata": {},
   "outputs": [],
   "source": [
    "import findingmodel"
   ]
  },
  {
   "cell_type": "markdown",
   "id": "53e57e07",
   "metadata": {},
   "source": [
    "**Note**: There must be an `.env` file (or a symlink to one) in the `notebooks` directory to find your appropriate environment."
   ]
  },
  {
   "cell_type": "code",
   "execution_count": 2,
   "id": "34e19c35",
   "metadata": {},
   "outputs": [
    {
     "data": {
      "text/plain": [
       "True"
      ]
     },
     "execution_count": 2,
     "metadata": {},
     "output_type": "execute_result"
    }
   ],
   "source": [
    "findingmodel.settings.check_ready_for_openai()"
   ]
  },
  {
   "cell_type": "markdown",
   "id": "d7a5e8f8",
   "metadata": {},
   "source": [
    "## `FindingInfo`"
   ]
  },
  {
   "cell_type": "code",
   "execution_count": 3,
   "id": "07c078cd",
   "metadata": {},
   "outputs": [],
   "source": [
    "info = await findingmodel.tools.describe_finding_name(\"thyroid nodule\")"
   ]
  },
  {
   "cell_type": "code",
   "execution_count": 4,
   "id": "9c058f35",
   "metadata": {},
   "outputs": [
    {
     "name": "stdout",
     "output_type": "stream",
     "text": [
      "name='Thyroid Nodule' synonyms=['Thyroid Adenoma', 'Thyroid Follicular Neoplasm', 'Thyroid Mass', 'TN'] description='A thyroid nodule is a discrete structural entity within the thyroid gland, often demonstrated as a hypoechoic or isoechoic lesion on ultrasound imaging.' detail='Thyroid nodules are common findings in the general population and vary in size, composition, and potential malignancy risk; workup may include ultrasound evaluation, fine-needle aspiration biopsy, and thyroid function tests to assess for hyperthyroidism or hypothyroidism.' citations=['https://www.ncbi.nlm.nih.gov/pmc/articles/PMC5092937/', 'https://www.thyroid.org/thyroid-nodules/']\n"
     ]
    }
   ],
   "source": [
    "print(info)"
   ]
  },
  {
   "cell_type": "markdown",
   "id": "24f75797",
   "metadata": {},
   "source": [
    "## Stub `FindingModel`"
   ]
  },
  {
   "cell_type": "code",
   "execution_count": 5,
   "id": "2fdb3ab3",
   "metadata": {},
   "outputs": [],
   "source": [
    "fm = findingmodel.tools.create_finding_model_stub_from_finding_info(info)"
   ]
  },
  {
   "cell_type": "code",
   "execution_count": 6,
   "id": "fc5e72aa",
   "metadata": {},
   "outputs": [],
   "source": [
    "fm_ids = findingmodel.tools.add_ids_to_finding_model(fm, source=\"MGB\")"
   ]
  },
  {
   "cell_type": "code",
   "execution_count": 7,
   "id": "ec8949f1",
   "metadata": {},
   "outputs": [
    {
     "name": "stdout",
     "output_type": "stream",
     "text": [
      "{\n",
      "  \"oifm_id\": \"OIFM_MGB_715820\",\n",
      "  \"name\": \"thyroid nodule\",\n",
      "  \"description\": \"A thyroid nodule is a discrete structural entity within the thyroid gland, often demonstrated as a hypoechoic or isoechoic lesion on ultrasound imaging.\",\n",
      "  \"synonyms\": [\n",
      "    \"Thyroid Adenoma\",\n",
      "    \"Thyroid Follicular Neoplasm\",\n",
      "    \"Thyroid Mass\",\n",
      "    \"TN\"\n",
      "  ],\n",
      "  \"attributes\": [\n",
      "    {\n",
      "      \"oifma_id\": \"OIFMA_MGB_383046\",\n",
      "      \"name\": \"presence\",\n",
      "      \"description\": \"Presence or absence of thyroid nodule\",\n",
      "      \"type\": \"choice\",\n",
      "      \"values\": [\n",
      "        {\n",
      "          \"value_code\": \"OIFMA_MGB_383046.0\",\n",
      "          \"name\": \"absent\",\n",
      "          \"description\": \"Thyroid nodule is absent\"\n",
      "        },\n",
      "        {\n",
      "          \"value_code\": \"OIFMA_MGB_383046.1\",\n",
      "          \"name\": \"present\",\n",
      "          \"description\": \"Thyroid nodule is present\"\n",
      "        },\n",
      "        {\n",
      "          \"value_code\": \"OIFMA_MGB_383046.2\",\n",
      "          \"name\": \"indeterminate\",\n",
      "          \"description\": \"Presence of thyroid nodule cannot be determined\"\n",
      "        },\n",
      "        {\n",
      "          \"value_code\": \"OIFMA_MGB_383046.3\",\n",
      "          \"name\": \"unknown\",\n",
      "          \"description\": \"Presence of thyroid nodule is unknown\"\n",
      "        }\n",
      "      ],\n",
      "      \"required\": false,\n",
      "      \"max_selected\": 1\n",
      "    },\n",
      "    {\n",
      "      \"oifma_id\": \"OIFMA_MGB_647685\",\n",
      "      \"name\": \"change from prior\",\n",
      "      \"description\": \"Whether and how a thyroid nodule has changed over time\",\n",
      "      \"type\": \"choice\",\n",
      "      \"values\": [\n",
      "        {\n",
      "          \"value_code\": \"OIFMA_MGB_647685.0\",\n",
      "          \"name\": \"unchanged\",\n",
      "          \"description\": \"Thyroid nodule is unchanged\"\n",
      "        },\n",
      "        {\n",
      "          \"value_code\": \"OIFMA_MGB_647685.1\",\n",
      "          \"name\": \"stable\",\n",
      "          \"description\": \"Thyroid nodule is stable\"\n",
      "        },\n",
      "        {\n",
      "          \"value_code\": \"OIFMA_MGB_647685.2\",\n",
      "          \"name\": \"increased\",\n",
      "          \"description\": \"Thyroid nodule has increased\"\n",
      "        },\n",
      "        {\n",
      "          \"value_code\": \"OIFMA_MGB_647685.3\",\n",
      "          \"name\": \"decreased\",\n",
      "          \"description\": \"Thyroid nodule has decreased\"\n",
      "        },\n",
      "        {\n",
      "          \"value_code\": \"OIFMA_MGB_647685.4\",\n",
      "          \"name\": \"new\",\n",
      "          \"description\": \"Thyroid nodule is new\"\n",
      "        },\n",
      "        {\n",
      "          \"value_code\": \"OIFMA_MGB_647685.5\",\n",
      "          \"name\": \"resolved\",\n",
      "          \"description\": \"Thyroid nodule seen on a prior exam has resolved\"\n",
      "        }\n",
      "      ],\n",
      "      \"required\": false,\n",
      "      \"max_selected\": 1\n",
      "    }\n",
      "  ]\n",
      "}\n"
     ]
    }
   ],
   "source": [
    "print(fm_ids.model_dump_json(indent=2, exclude_none=True))"
   ]
  },
  {
   "cell_type": "markdown",
   "id": "17694ddd",
   "metadata": {},
   "source": [
    "## Generate Finding Model from Markdown"
   ]
  },
  {
   "cell_type": "code",
   "execution_count": 8,
   "id": "2ed75b6b",
   "metadata": {},
   "outputs": [],
   "source": [
    "thyroid_nodule_md = \"\"\"\n",
    "# Thyroid Nodule\n",
    "\n",
    "## Attributes\n",
    "- **Location**: Right lobe, left lobe, isthmus\n",
    "- **Size**: in cm\n",
    "- **Composition**: Solid, cystic, complex\n",
    "- **Margins**: Smooth, irregular\n",
    "- **Calcifications**: Microcalcifications, macrocalcifications, none\n",
    "- **Vascularity**: Hypervascular, hypovascular, none\n",
    "\"\"\""
   ]
  },
  {
   "cell_type": "code",
   "execution_count": 9,
   "id": "ad75215f",
   "metadata": {},
   "outputs": [],
   "source": [
    "thyroid_nodule = await findingmodel.tools.create_finding_model_from_markdown(\n",
    "    info,\n",
    "    markdown_text=thyroid_nodule_md,\n",
    ")"
   ]
  },
  {
   "cell_type": "code",
   "execution_count": 10,
   "id": "53c2ea89",
   "metadata": {},
   "outputs": [],
   "source": [
    "thyroid_nodule_ids = findingmodel.tools.add_ids_to_finding_model(thyroid_nodule, source=\"MGB\")"
   ]
  },
  {
   "cell_type": "code",
   "execution_count": 11,
   "id": "b8c7a3a9",
   "metadata": {},
   "outputs": [
    {
     "name": "stdout",
     "output_type": "stream",
     "text": [
      "{\n",
      "  \"oifm_id\": \"OIFM_MGB_990317\",\n",
      "  \"name\": \"Thyroid Nodule\",\n",
      "  \"description\": \"A thyroid nodule is a growth within the thyroid gland that can be solid or filled with fluid. These nodules can be characterized by their size, composition, margins, calcifications, and vascularity.\",\n",
      "  \"synonyms\": [\n",
      "    \"Thyroid Adenoma\",\n",
      "    \"Thyroid Follicular Neoplasm\",\n",
      "    \"Thyroid Mass\",\n",
      "    \"TN\"\n",
      "  ],\n",
      "  \"attributes\": [\n",
      "    {\n",
      "      \"oifma_id\": \"OIFMA_MGB_012598\",\n",
      "      \"name\": \"location\",\n",
      "      \"type\": \"choice\",\n",
      "      \"values\": [\n",
      "        {\n",
      "          \"value_code\": \"OIFMA_MGB_012598.0\",\n",
      "          \"name\": \"right lobe\"\n",
      "        },\n",
      "        {\n",
      "          \"value_code\": \"OIFMA_MGB_012598.1\",\n",
      "          \"name\": \"left lobe\"\n",
      "        },\n",
      "        {\n",
      "          \"value_code\": \"OIFMA_MGB_012598.2\",\n",
      "          \"name\": \"isthmus\"\n",
      "        }\n",
      "      ],\n",
      "      \"required\": false,\n",
      "      \"max_selected\": 1\n",
      "    },\n",
      "    {\n",
      "      \"oifma_id\": \"OIFMA_MGB_747047\",\n",
      "      \"name\": \"size\",\n",
      "      \"type\": \"numeric\",\n",
      "      \"minimum\": 0.1,\n",
      "      \"maximum\": 10,\n",
      "      \"unit\": \"cm\",\n",
      "      \"required\": false\n",
      "    },\n",
      "    {\n",
      "      \"oifma_id\": \"OIFMA_MGB_118528\",\n",
      "      \"name\": \"composition\",\n",
      "      \"type\": \"choice\",\n",
      "      \"values\": [\n",
      "        {\n",
      "          \"value_code\": \"OIFMA_MGB_118528.0\",\n",
      "          \"name\": \"solid\"\n",
      "        },\n",
      "        {\n",
      "          \"value_code\": \"OIFMA_MGB_118528.1\",\n",
      "          \"name\": \"cystic\"\n",
      "        },\n",
      "        {\n",
      "          \"value_code\": \"OIFMA_MGB_118528.2\",\n",
      "          \"name\": \"complex\"\n",
      "        }\n",
      "      ],\n",
      "      \"required\": false,\n",
      "      \"max_selected\": 1\n",
      "    },\n",
      "    {\n",
      "      \"oifma_id\": \"OIFMA_MGB_333383\",\n",
      "      \"name\": \"margins\",\n",
      "      \"type\": \"choice\",\n",
      "      \"values\": [\n",
      "        {\n",
      "          \"value_code\": \"OIFMA_MGB_333383.0\",\n",
      "          \"name\": \"smooth\"\n",
      "        },\n",
      "        {\n",
      "          \"value_code\": \"OIFMA_MGB_333383.1\",\n",
      "          \"name\": \"irregular\"\n",
      "        }\n",
      "      ],\n",
      "      \"required\": false,\n",
      "      \"max_selected\": 1\n",
      "    },\n",
      "    {\n",
      "      \"oifma_id\": \"OIFMA_MGB_639318\",\n",
      "      \"name\": \"calcifications\",\n",
      "      \"type\": \"choice\",\n",
      "      \"values\": [\n",
      "        {\n",
      "          \"value_code\": \"OIFMA_MGB_639318.0\",\n",
      "          \"name\": \"microcalcifications\"\n",
      "        },\n",
      "        {\n",
      "          \"value_code\": \"OIFMA_MGB_639318.1\",\n",
      "          \"name\": \"macrocalcifications\"\n",
      "        },\n",
      "        {\n",
      "          \"value_code\": \"OIFMA_MGB_639318.2\",\n",
      "          \"name\": \"none\"\n",
      "        }\n",
      "      ],\n",
      "      \"required\": false,\n",
      "      \"max_selected\": 1\n",
      "    },\n",
      "    {\n",
      "      \"oifma_id\": \"OIFMA_MGB_916175\",\n",
      "      \"name\": \"vascularity\",\n",
      "      \"type\": \"choice\",\n",
      "      \"values\": [\n",
      "        {\n",
      "          \"value_code\": \"OIFMA_MGB_916175.0\",\n",
      "          \"name\": \"hypervascular\"\n",
      "        },\n",
      "        {\n",
      "          \"value_code\": \"OIFMA_MGB_916175.1\",\n",
      "          \"name\": \"hypovascular\"\n",
      "        },\n",
      "        {\n",
      "          \"value_code\": \"OIFMA_MGB_916175.2\",\n",
      "          \"name\": \"none\"\n",
      "        }\n",
      "      ],\n",
      "      \"required\": false,\n",
      "      \"max_selected\": 1\n",
      "    }\n",
      "  ]\n",
      "}\n"
     ]
    }
   ],
   "source": [
    "print(thyroid_nodule_ids.model_dump_json(indent=2, exclude_none=True))"
   ]
  },
  {
   "cell_type": "code",
   "execution_count": 12,
   "id": "8d718387",
   "metadata": {},
   "outputs": [
    {
     "data": {
      "text/markdown": [
       "# Thyroid nodule—`OIFM_MGB_990317`\n",
       "\n",
       "**Synonyms:** Thyroid Adenoma, Thyroid Follicular Neoplasm, Thyroid Mass, TN\n",
       "\n",
       "A thyroid nodule is a growth within the thyroid gland that can be solid or filled with fluid. These nodules can be characterized by their size, composition, margins, calcifications, and vascularity.\n",
       "\n",
       "## Attributes\n",
       "\n",
       "### Location—`OIFMA_MGB_012598`\n",
       "\n",
       " *(Select one)*\n",
       "\n",
       "- **right lobe**\n",
       "- **left lobe**\n",
       "- **isthmus**\n",
       "\n",
       "### Size—`OIFMA_MGB_747047`\n",
       "\n",
       "\n",
       "Mininum: 0.1\n",
       "Maximum: 10\n",
       "Unit: cm\n",
       "\n",
       "### Composition—`OIFMA_MGB_118528`\n",
       "\n",
       " *(Select one)*\n",
       "\n",
       "- **solid**\n",
       "- **cystic**\n",
       "- **complex**\n",
       "\n",
       "### Margins—`OIFMA_MGB_333383`\n",
       "\n",
       " *(Select one)*\n",
       "\n",
       "- **smooth**\n",
       "- **irregular**\n",
       "\n",
       "### Calcifications—`OIFMA_MGB_639318`\n",
       "\n",
       " *(Select one)*\n",
       "\n",
       "- **microcalcifications**\n",
       "- **macrocalcifications**\n",
       "- **none**\n",
       "\n",
       "### Vascularity—`OIFMA_MGB_916175`\n",
       "\n",
       " *(Select one)*\n",
       "\n",
       "- **hypervascular**\n",
       "- **hypovascular**\n",
       "- **none**"
      ],
      "text/plain": [
       "<IPython.core.display.Markdown object>"
      ]
     },
     "metadata": {},
     "output_type": "display_data"
    }
   ],
   "source": [
    "from IPython.display import Markdown, display\n",
    "\n",
    "display(Markdown(thyroid_nodule_ids.as_markdown()))"
   ]
  },
  {
   "cell_type": "code",
   "execution_count": null,
   "id": "51bb3f43",
   "metadata": {},
   "outputs": [],
   "source": []
  }
 ],
 "metadata": {
  "kernelspec": {
   "display_name": ".venv",
   "language": "python",
   "name": "python3"
  },
  "language_info": {
   "codemirror_mode": {
    "name": "ipython",
    "version": 3
   },
   "file_extension": ".py",
   "mimetype": "text/x-python",
   "name": "python",
   "nbconvert_exporter": "python",
   "pygments_lexer": "ipython3",
   "version": "3.11.12"
  }
 },
 "nbformat": 4,
 "nbformat_minor": 5
}
