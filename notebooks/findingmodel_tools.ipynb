{
 "cells": [
  {
   "cell_type": "code",
   "execution_count": 1,
   "id": "65a16d49",
   "metadata": {},
   "outputs": [],
   "source": [
    "import findingmodel"
   ]
  },
  {
   "cell_type": "markdown",
   "id": "53e57e07",
   "metadata": {},
   "source": [
    "**Note**: There must be an `.env` file (or a symlink to one) in the `notebooks` directory to find your appropriate environment."
   ]
  },
  {
   "cell_type": "code",
   "execution_count": 3,
   "id": "34e19c35",
   "metadata": {},
   "outputs": [
    {
     "data": {
      "text/plain": [
       "True"
      ]
     },
     "execution_count": 3,
     "metadata": {},
     "output_type": "execute_result"
    }
   ],
   "source": [
    "findingmodel.settings.check_ready_for_openai()"
   ]
  },
  {
   "cell_type": "code",
   "execution_count": 3,
   "id": "07c078cd",
   "metadata": {},
   "outputs": [],
   "source": [
    "info = await findingmodel.tools.describe_finding_name(\"thyroid nodule\")"
   ]
  },
  {
   "cell_type": "code",
   "execution_count": 9,
   "id": "57cef86e",
   "metadata": {},
   "outputs": [
    {
     "data": {
      "text/plain": [
       "'o1-mini'"
      ]
     },
     "execution_count": 9,
     "metadata": {},
     "output_type": "execute_result"
    }
   ],
   "source": [
    "findingmodel.settings.openai_default_model"
   ]
  },
  {
   "cell_type": "code",
   "execution_count": 4,
   "id": "e8a86ca1",
   "metadata": {},
   "outputs": [
    {
     "name": "stdout",
     "output_type": "stream",
     "text": [
      "name='thyroid nodule' synonyms=['thyroid mass', 'thyroid lesion'] description='A thyroid nodule is a discrete lesion within the thyroid gland that is radiologically identifiable and may be solid or cystic in nature, with potential implications for thyroid function and malignancy risk.'\n"
     ]
    }
   ],
   "source": [
    "print(info)"
   ]
  },
  {
   "cell_type": "code",
   "execution_count": null,
   "id": "2fdb3ab3",
   "metadata": {},
   "outputs": [],
   "source": [
    "fm = findingmodel.tools.create_finding_model_stub_from_finding_info(info)"
   ]
  },
  {
   "cell_type": "code",
   "execution_count": 8,
   "id": "fc5e72aa",
   "metadata": {},
   "outputs": [],
   "source": [
    "fm_ids = findingmodel.tools.add_ids_to_finding_model(fm, source=\"MGB\")"
   ]
  },
  {
   "cell_type": "code",
   "execution_count": 9,
   "id": "ec8949f1",
   "metadata": {},
   "outputs": [
    {
     "name": "stdout",
     "output_type": "stream",
     "text": [
      "{\n",
      "  \"oifm_id\": \"OIFM_MGB_919749\",\n",
      "  \"name\": \"thyroid nodule\",\n",
      "  \"description\": \"A thyroid nodule is a discrete lesion within the thyroid gland that is radiologically identifiable and may be solid or cystic in nature, with potential implications for thyroid function and malignancy risk.\",\n",
      "  \"synonyms\": [\n",
      "    \"thyroid mass\",\n",
      "    \"thyroid lesion\"\n",
      "  ],\n",
      "  \"tags\": null,\n",
      "  \"attributes\": [\n",
      "    {\n",
      "      \"oifma_id\": \"OIFMA_MGB_273943\",\n",
      "      \"name\": \"presence\",\n",
      "      \"description\": \"Presence or absence of thyroid nodule\",\n",
      "      \"type\": \"choice\",\n",
      "      \"values\": [\n",
      "        {\n",
      "          \"value_code\": \"OIFMA_MGB_273943.0\",\n",
      "          \"name\": \"absent\",\n",
      "          \"description\": \"Thyroid nodule is absent\"\n",
      "        },\n",
      "        {\n",
      "          \"value_code\": \"OIFMA_MGB_273943.1\",\n",
      "          \"name\": \"present\",\n",
      "          \"description\": \"Thyroid nodule is present\"\n",
      "        },\n",
      "        {\n",
      "          \"value_code\": \"OIFMA_MGB_273943.2\",\n",
      "          \"name\": \"indeterminate\",\n",
      "          \"description\": \"Presence of thyroid nodule cannot be determined\"\n",
      "        },\n",
      "        {\n",
      "          \"value_code\": \"OIFMA_MGB_273943.3\",\n",
      "          \"name\": \"unknown\",\n",
      "          \"description\": \"Presence of thyroid nodule is unknown\"\n",
      "        }\n",
      "      ],\n",
      "      \"required\": false,\n",
      "      \"max_selected\": null\n",
      "    },\n",
      "    {\n",
      "      \"oifma_id\": \"OIFMA_MGB_278019\",\n",
      "      \"name\": \"change from prior\",\n",
      "      \"description\": \"Whether and how a thyroid nodule has changed over time\",\n",
      "      \"type\": \"choice\",\n",
      "      \"values\": [\n",
      "        {\n",
      "          \"value_code\": \"OIFMA_MGB_278019.0\",\n",
      "          \"name\": \"unchanged\",\n",
      "          \"description\": \"Thyroid nodule is unchanged\"\n",
      "        },\n",
      "        {\n",
      "          \"value_code\": \"OIFMA_MGB_278019.1\",\n",
      "          \"name\": \"stable\",\n",
      "          \"description\": \"Thyroid nodule is stable\"\n",
      "        },\n",
      "        {\n",
      "          \"value_code\": \"OIFMA_MGB_278019.2\",\n",
      "          \"name\": \"increased\",\n",
      "          \"description\": \"Thyroid nodule has increased\"\n",
      "        },\n",
      "        {\n",
      "          \"value_code\": \"OIFMA_MGB_278019.3\",\n",
      "          \"name\": \"decreased\",\n",
      "          \"description\": \"Thyroid nodule has decreased\"\n",
      "        },\n",
      "        {\n",
      "          \"value_code\": \"OIFMA_MGB_278019.4\",\n",
      "          \"name\": \"new\",\n",
      "          \"description\": \"Thyroid nodule is new\"\n",
      "        }\n",
      "      ],\n",
      "      \"required\": false,\n",
      "      \"max_selected\": null\n",
      "    }\n",
      "  ]\n",
      "}\n"
     ]
    }
   ],
   "source": [
    "print(fm_ids.model_dump_json(indent=2))"
   ]
  },
  {
   "cell_type": "code",
   "execution_count": 10,
   "id": "2ed75b6b",
   "metadata": {},
   "outputs": [],
   "source": [
    "thyroid_nodule_md = \"\"\"\n",
    "# Thyroid Nodule\n",
    "\n",
    "## Attributes\n",
    "- **Location**: Right lobe, left lobe, isthmus\n",
    "- **Size**: in cm\n",
    "- **Composition**: Solid, cystic, complex\n",
    "- **Margins**: Smooth, irregular\n",
    "- **Calcifications**: Microcalcifications, macrocalcifications, none\n",
    "- **Vascularity**: Hypervascular, hypovascular, none\n",
    "\"\"\""
   ]
  },
  {
   "cell_type": "code",
   "execution_count": null,
   "id": "ad75215f",
   "metadata": {},
   "outputs": [],
   "source": [
    "thyroid_nodule = await findingmodel.tools.create_finding_model_from_markdown(\n",
    "    info,\n",
    "    markdown_text=thyroid_nodule_md,\n",
    ")"
   ]
  },
  {
   "cell_type": "code",
   "execution_count": 12,
   "id": "53c2ea89",
   "metadata": {},
   "outputs": [],
   "source": [
    "thyroid_nodule_ids = findingmodel.tools.add_ids_to_finding_model(thyroid_nodule, source=\"MGB\")"
   ]
  },
  {
   "cell_type": "code",
   "execution_count": 13,
   "id": "b8c7a3a9",
   "metadata": {},
   "outputs": [
    {
     "name": "stdout",
     "output_type": "stream",
     "text": [
      "{\n",
      "  \"oifm_id\": \"OIFM_MGB_791057\",\n",
      "  \"name\": \"thyroid nodule\",\n",
      "  \"description\": \"A thyroid nodule is a growth within the thyroid gland that can be composed of various tissues and may have different characteristics. Detection and evaluation of these nodules are essential for assessing potential malignancy.\",\n",
      "  \"synonyms\": [\n",
      "    \"thyroid mass\",\n",
      "    \"thyroid lesion\"\n",
      "  ],\n",
      "  \"tags\": null,\n",
      "  \"attributes\": [\n",
      "    {\n",
      "      \"oifma_id\": \"OIFMA_MGB_961683\",\n",
      "      \"name\": \"location\",\n",
      "      \"description\": \"The anatomical location of the thyroid nodule within the thyroid gland.\",\n",
      "      \"type\": \"choice\",\n",
      "      \"values\": [\n",
      "        {\n",
      "          \"value_code\": \"OIFMA_MGB_961683.0\",\n",
      "          \"name\": \"right lobe\",\n",
      "          \"description\": null\n",
      "        },\n",
      "        {\n",
      "          \"value_code\": \"OIFMA_MGB_961683.1\",\n",
      "          \"name\": \"left lobe\",\n",
      "          \"description\": null\n",
      "        },\n",
      "        {\n",
      "          \"value_code\": \"OIFMA_MGB_961683.2\",\n",
      "          \"name\": \"isthmus\",\n",
      "          \"description\": null\n",
      "        }\n",
      "      ],\n",
      "      \"required\": true,\n",
      "      \"max_selected\": null\n",
      "    },\n",
      "    {\n",
      "      \"oifma_id\": \"OIFMA_MGB_825700\",\n",
      "      \"name\": \"size\",\n",
      "      \"description\": \"The measurement of the thyroid nodule, typically in centimeters.\",\n",
      "      \"type\": \"numeric\",\n",
      "      \"minimum\": 0,\n",
      "      \"maximum\": 10,\n",
      "      \"unit\": \"cm\",\n",
      "      \"required\": true\n",
      "    },\n",
      "    {\n",
      "      \"oifma_id\": \"OIFMA_MGB_910264\",\n",
      "      \"name\": \"composition\",\n",
      "      \"description\": \"The type of tissue composition of the thyroid nodule.\",\n",
      "      \"type\": \"choice\",\n",
      "      \"values\": [\n",
      "        {\n",
      "          \"value_code\": \"OIFMA_MGB_910264.0\",\n",
      "          \"name\": \"solid\",\n",
      "          \"description\": null\n",
      "        },\n",
      "        {\n",
      "          \"value_code\": \"OIFMA_MGB_910264.1\",\n",
      "          \"name\": \"cystic\",\n",
      "          \"description\": null\n",
      "        },\n",
      "        {\n",
      "          \"value_code\": \"OIFMA_MGB_910264.2\",\n",
      "          \"name\": \"complex\",\n",
      "          \"description\": null\n",
      "        }\n",
      "      ],\n",
      "      \"required\": true,\n",
      "      \"max_selected\": null\n",
      "    },\n",
      "    {\n",
      "      \"oifma_id\": \"OIFMA_MGB_751709\",\n",
      "      \"name\": \"margins\",\n",
      "      \"description\": \"The characteristics of the edges of the thyroid nodule.\",\n",
      "      \"type\": \"choice\",\n",
      "      \"values\": [\n",
      "        {\n",
      "          \"value_code\": \"OIFMA_MGB_751709.0\",\n",
      "          \"name\": \"smooth\",\n",
      "          \"description\": null\n",
      "        },\n",
      "        {\n",
      "          \"value_code\": \"OIFMA_MGB_751709.1\",\n",
      "          \"name\": \"irregular\",\n",
      "          \"description\": null\n",
      "        }\n",
      "      ],\n",
      "      \"required\": true,\n",
      "      \"max_selected\": null\n",
      "    },\n",
      "    {\n",
      "      \"oifma_id\": \"OIFMA_MGB_001600\",\n",
      "      \"name\": \"calcifications\",\n",
      "      \"description\": \"The presence and type of calcifications within the nodule.\",\n",
      "      \"type\": \"choice\",\n",
      "      \"values\": [\n",
      "        {\n",
      "          \"value_code\": \"OIFMA_MGB_001600.0\",\n",
      "          \"name\": \"microcalcifications\",\n",
      "          \"description\": null\n",
      "        },\n",
      "        {\n",
      "          \"value_code\": \"OIFMA_MGB_001600.1\",\n",
      "          \"name\": \"macrocalcifications\",\n",
      "          \"description\": null\n",
      "        },\n",
      "        {\n",
      "          \"value_code\": \"OIFMA_MGB_001600.2\",\n",
      "          \"name\": \"none\",\n",
      "          \"description\": null\n",
      "        }\n",
      "      ],\n",
      "      \"required\": true,\n",
      "      \"max_selected\": null\n",
      "    },\n",
      "    {\n",
      "      \"oifma_id\": \"OIFMA_MGB_330737\",\n",
      "      \"name\": \"vascularity\",\n",
      "      \"description\": \"The vascular supply to the thyroid nodule.\",\n",
      "      \"type\": \"choice\",\n",
      "      \"values\": [\n",
      "        {\n",
      "          \"value_code\": \"OIFMA_MGB_330737.0\",\n",
      "          \"name\": \"hypervascular\",\n",
      "          \"description\": null\n",
      "        },\n",
      "        {\n",
      "          \"value_code\": \"OIFMA_MGB_330737.1\",\n",
      "          \"name\": \"hypovascular\",\n",
      "          \"description\": null\n",
      "        },\n",
      "        {\n",
      "          \"value_code\": \"OIFMA_MGB_330737.2\",\n",
      "          \"name\": \"none\",\n",
      "          \"description\": null\n",
      "        }\n",
      "      ],\n",
      "      \"required\": true,\n",
      "      \"max_selected\": null\n",
      "    }\n",
      "  ]\n",
      "}\n"
     ]
    }
   ],
   "source": [
    "print(thyroid_nodule_ids.model_dump_json(indent=2))"
   ]
  },
  {
   "cell_type": "code",
   "execution_count": null,
   "id": "8d718387",
   "metadata": {},
   "outputs": [],
   "source": []
  }
 ],
 "metadata": {
  "kernelspec": {
   "display_name": ".venv",
   "language": "python",
   "name": "python3"
  },
  "language_info": {
   "codemirror_mode": {
    "name": "ipython",
    "version": 3
   },
   "file_extension": ".py",
   "mimetype": "text/x-python",
   "name": "python",
   "nbconvert_exporter": "python",
   "pygments_lexer": "ipython3",
   "version": "3.11.12"
  }
 },
 "nbformat": 4,
 "nbformat_minor": 5
}
