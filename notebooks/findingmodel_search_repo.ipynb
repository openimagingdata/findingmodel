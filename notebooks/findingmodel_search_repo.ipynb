{
 "cells": [
  {
   "cell_type": "markdown",
   "id": "0d96305d",
   "metadata": {},
   "source": [
    "# Finding Model Search Repository"
   ]
  },
  {
   "cell_type": "markdown",
   "id": "c816b833",
   "metadata": {},
   "source": [
    "## Setup"
   ]
  },
  {
   "cell_type": "markdown",
   "id": "56ae90dd",
   "metadata": {},
   "source": [
    "`FindingModelRepsitory` stores finding models in JSON format in a `defs` directory under a root directory, along with an index file in the root directory (`index.jsonl`).\n",
    "\n",
    "One possibility is that users will clone the [Open Imaging Finding Models repository](https://github.com/openimagingdata/findingmodels) and use the root directory for local finding model work."
   ]
  },
  {
   "cell_type": "code",
   "execution_count": 1,
   "id": "872e77be",
   "metadata": {},
   "outputs": [],
   "source": [
    "import findingmodel as fm\n",
    "from findingmodel.search_repository import SearchRepository"
   ]
  },
  {
   "cell_type": "markdown",
   "id": "c7be637a",
   "metadata": {},
   "source": [
    "Here, we're going to use the `data` directory as the repository root; there are already a number of files there:\n",
    "```text\n",
    "$ tree\n",
    ".\n",
    "├── defs\n",
    "│   ├── abdominal_aortic_aneurysm.fm.json\n",
    "│   ├── aortic_dissection.fm.json\n",
    "│   ├── breast_density.fm.json\n",
    "│   ├── breast_malignancy_risk.fm.json\n",
    "│   ├── pulmonary_embolism.fm.json\n",
    "│   └── ventricular_diameters.fm.json\n",
    "└── index.lancedb\n",
    "```\n",
    "\n",
    "> The `index.lancedb` is where the [LanceDB](https://lancedb.github.io/lancedb) the underlies the repository index is."
   ]
  },
  {
   "cell_type": "code",
   "execution_count": 2,
   "id": "1621725f",
   "metadata": {},
   "outputs": [],
   "source": [
    "repo = SearchRepository(\"data\")"
   ]
  },
  {
   "cell_type": "markdown",
   "id": "3c17f6e0",
   "metadata": {},
   "source": [
    "## Basic Retrieval"
   ]
  },
  {
   "cell_type": "code",
   "execution_count": 3,
   "id": "60b42f6e",
   "metadata": {},
   "outputs": [
    {
     "data": {
      "text/plain": [
       "['OIFM_MSFT_134126',\n",
       " 'OIFM_MSFT_156954',\n",
       " 'OIFM_MSFT_356221',\n",
       " 'OIFM_MSFT_367670',\n",
       " 'OIFM_MSFT_573630',\n",
       " 'OIFM_MSFT_932618']"
      ]
     },
     "execution_count": 3,
     "metadata": {},
     "output_type": "execute_result"
    }
   ],
   "source": [
    "repo.model_ids"
   ]
  },
  {
   "cell_type": "markdown",
   "id": "172903b6",
   "metadata": {},
   "source": [
    "`list_models()` returns an `Iterator[FindingModelFull]` after loading each finding model."
   ]
  },
  {
   "cell_type": "code",
   "execution_count": 4,
   "id": "d462067d",
   "metadata": {},
   "outputs": [
    {
     "data": {
      "text/plain": [
       "[FindingModelFull(oifm_id='OIFM_MSFT_134126', name='abdominal aortic aneurysm', description='An abdominal aortic aneurysm (AAA) is a localized dilation of the abdominal aorta, typically defined as a diameter greater than 3 cm, which can lead to rupture and significant morbidity or mortality.', synonyms=['AAA'], tags=None, attributes=[ChoiceAttributeIded(oifma_id='OIFMA_MSFT_898601', name='presence', description='Presence or absence of abdominal aortic aneurysm', type=<AttributeType.CHOICE: 'choice'>, values=[ChoiceValueIded(value_code='OIFMA_MSFT_898601.0', name='absent', description='Abdominal aortic aneurysm is absent', index_codes=None), ChoiceValueIded(value_code='OIFMA_MSFT_898601.1', name='present', description='Abdominal aortic aneurysm is present', index_codes=None), ChoiceValueIded(value_code='OIFMA_MSFT_898601.2', name='indeterminate', description='Presence of abdominal aortic aneurysm cannot be determined', index_codes=None), ChoiceValueIded(value_code='OIFMA_MSFT_898601.3', name='unknown', description='Presence of abdominal aortic aneurysm is unknown', index_codes=None)], required=False, max_selected=1, index_codes=None), ChoiceAttributeIded(oifma_id='OIFMA_MSFT_783072', name='change from prior', description='Whether and how a abdominal aortic aneurysm has changed over time', type=<AttributeType.CHOICE: 'choice'>, values=[ChoiceValueIded(value_code='OIFMA_MSFT_783072.0', name='unchanged', description='Abdominal aortic aneurysm is unchanged', index_codes=None), ChoiceValueIded(value_code='OIFMA_MSFT_783072.1', name='stable', description='Abdominal aortic aneurysm is stable', index_codes=None), ChoiceValueIded(value_code='OIFMA_MSFT_783072.2', name='increased', description='Abdominal aortic aneurysm has increased', index_codes=None), ChoiceValueIded(value_code='OIFMA_MSFT_783072.3', name='decreased', description='Abdominal aortic aneurysm has decreased', index_codes=None), ChoiceValueIded(value_code='OIFMA_MSFT_783072.4', name='new', description='Abdominal aortic aneurysm is new', index_codes=None)], required=False, max_selected=1, index_codes=None)], index_codes=None),\n",
       " FindingModelFull(oifm_id='OIFM_MSFT_573630', name='aortic dissection', description='Aortic dissection is a critical condition characterized by the separation of the aortic wall layers due to an intimal tear, resulting in an intramural hematoma and potential rupture; it often presents with severe, acute chest or back pain and may lead to life-threatening complications.', synonyms=['aortic rupture', 'dissecting aneurysm'], tags=None, attributes=[ChoiceAttributeIded(oifma_id='OIFMA_MSFT_196263', name='presence', description='Presence or absence of aortic dissection', type=<AttributeType.CHOICE: 'choice'>, values=[ChoiceValueIded(value_code='OIFMA_MSFT_196263.0', name='absent', description='Aortic dissection is absent', index_codes=None), ChoiceValueIded(value_code='OIFMA_MSFT_196263.1', name='present', description='Aortic dissection is present', index_codes=None), ChoiceValueIded(value_code='OIFMA_MSFT_196263.2', name='indeterminate', description='Presence of aortic dissection cannot be determined', index_codes=None), ChoiceValueIded(value_code='OIFMA_MSFT_196263.3', name='unknown', description='Presence of aortic dissection is unknown', index_codes=None)], required=False, max_selected=1, index_codes=None), ChoiceAttributeIded(oifma_id='OIFMA_MSFT_548382', name='change from prior', description='Whether and how a aortic dissection has changed over time', type=<AttributeType.CHOICE: 'choice'>, values=[ChoiceValueIded(value_code='OIFMA_MSFT_548382.0', name='unchanged', description='Aortic dissection is unchanged', index_codes=None), ChoiceValueIded(value_code='OIFMA_MSFT_548382.1', name='stable', description='Aortic dissection is stable', index_codes=None), ChoiceValueIded(value_code='OIFMA_MSFT_548382.2', name='increased', description='Aortic dissection has increased', index_codes=None), ChoiceValueIded(value_code='OIFMA_MSFT_548382.3', name='decreased', description='Aortic dissection has decreased', index_codes=None), ChoiceValueIded(value_code='OIFMA_MSFT_548382.4', name='new', description='Aortic dissection is new', index_codes=None)], required=False, max_selected=1, index_codes=None)], index_codes=None),\n",
       " FindingModelFull(oifm_id='OIFM_MSFT_356221', name='Breast density', description='Breast density refers to the proportion of fatty tissue to fibroglandular tissue in the breast as seen on a mammogram.', synonyms=['Mammographic density', 'Breast tissue density'], tags=None, attributes=[NumericAttributeIded(oifma_id='OIFMA_MSFT_806368', name='density score', description='Numeric score representing the breast density on a scale from 1.0 to 4.99.', type=<AttributeType.NUMERIC: 'numeric'>, minimum=1.0, maximum=4.99, unit=None, required=False, index_codes=None), ChoiceAttributeIded(oifma_id='OIFMA_MSFT_765716', name='density category', description='Categorical classification of breast density based on mammographic appearance.', type=<AttributeType.CHOICE: 'choice'>, values=[ChoiceValueIded(value_code='OIFMA_MSFT_765716.0', name='a: The breasts are almost entirely fatty.', description=None, index_codes=None), ChoiceValueIded(value_code='OIFMA_MSFT_765716.1', name='b: There are scattered areas of fibroglandular density.', description=None, index_codes=None), ChoiceValueIded(value_code='OIFMA_MSFT_765716.2', name='c: The breasts are heterogeneously dense, which may obscure small masses.', description=None, index_codes=None), ChoiceValueIded(value_code='OIFMA_MSFT_765716.3', name='d: The breasts are extremely dense, which lowers the sensitivity of mammography.', description=None, index_codes=None)], required=False, max_selected=1, index_codes=None)], index_codes=None),\n",
       " FindingModelFull(oifm_id='OIFM_MSFT_156954', name='Mammographic malignancy assessment', description='Estimates of the likelihood of malignancy based on mammography features.', synonyms=['Risk of breast cancer', 'Case Score', 'Breast cancer risk assessment'], tags=None, attributes=[NumericAttributeIded(oifma_id='OIFMA_MSFT_825588', name='Case Score', description='Case Score is an overall assessment of the entire mammography exam, ranging from 0 to 100.', type=<AttributeType.NUMERIC: 'numeric'>, minimum=0, maximum=100, unit='percent', required=True, index_codes=None)], index_codes=None),\n",
       " FindingModelFull(oifm_id='OIFM_MSFT_932618', name='pulmonary embolism', description='Pulmonary embolism is the occlusion of a pulmonary artery or one of its branches, typically caused by thrombi that originate from the deep veins of the legs or other parts of the body, leading to impaired gas exchange and potential hemodynamic instability.', synonyms=['PE'], tags=None, attributes=[ChoiceAttributeIded(oifma_id='OIFMA_MSFT_463871', name='presence', description='Presence or absence of pulmonary embolism', type=<AttributeType.CHOICE: 'choice'>, values=[ChoiceValueIded(value_code='OIFMA_MSFT_463871.0', name='absent', description='Pulmonary embolism is absent', index_codes=None), ChoiceValueIded(value_code='OIFMA_MSFT_463871.1', name='present', description='Pulmonary embolism is present', index_codes=None), ChoiceValueIded(value_code='OIFMA_MSFT_463871.2', name='indeterminate', description='Presence of pulmonary embolism cannot be determined', index_codes=None), ChoiceValueIded(value_code='OIFMA_MSFT_463871.3', name='unknown', description='Presence of pulmonary embolism is unknown', index_codes=None)], required=False, max_selected=1, index_codes=None), ChoiceAttributeIded(oifma_id='OIFMA_MSFT_592864', name='change from prior', description='Whether and how a pulmonary embolism has changed over time', type=<AttributeType.CHOICE: 'choice'>, values=[ChoiceValueIded(value_code='OIFMA_MSFT_592864.0', name='unchanged', description='Pulmonary embolism is unchanged', index_codes=None), ChoiceValueIded(value_code='OIFMA_MSFT_592864.1', name='stable', description='Pulmonary embolism is stable', index_codes=None), ChoiceValueIded(value_code='OIFMA_MSFT_592864.2', name='increased', description='Pulmonary embolism has increased', index_codes=None), ChoiceValueIded(value_code='OIFMA_MSFT_592864.3', name='decreased', description='Pulmonary embolism has decreased', index_codes=None), ChoiceValueIded(value_code='OIFMA_MSFT_592864.4', name='new', description='Pulmonary embolism is new', index_codes=None)], required=False, max_selected=1, index_codes=None)], index_codes=None),\n",
       " FindingModelFull(oifm_id='OIFM_MSFT_367670', name='Ventricular diameters', description='Measurements of the maximum diameters of the right and left ventricles of the heart.', synonyms=['Ventricular size measurements', 'Left ventricular diameter (LVD)', 'Right ventricular diameter (RVD)'], tags=['cardiac'], attributes=[NumericAttributeIded(oifma_id='OIFMA_MSFT_660128', name='right ventricle diameter', description='Maximum right ventricular diameter measured in millimeters.', type=<AttributeType.NUMERIC: 'numeric'>, minimum=0, maximum=999.9, unit='mm', required=True, index_codes=None), NumericAttributeIded(oifma_id='OIFMA_MSFT_254180', name='left ventricle diameter', description='Maximum left ventricular diameter measured in millimeters.', type=<AttributeType.NUMERIC: 'numeric'>, minimum=0, maximum=999.9, unit='mm', required=True, index_codes=None), NumericAttributeIded(oifma_id='OIFMA_MSFT_299081', name='rv/lv ratio', description='Ratio of right ventricle diameter to left ventricle diameter.', type=<AttributeType.NUMERIC: 'numeric'>, minimum=0, maximum=99.9, unit=None, required=True, index_codes=None)], index_codes=None)]"
      ]
     },
     "execution_count": 4,
     "metadata": {},
     "output_type": "execute_result"
    }
   ],
   "source": [
    "list(repo.list_models())"
   ]
  },
  {
   "cell_type": "markdown",
   "id": "9e35e278",
   "metadata": {},
   "source": [
    "Get a specific finding model with `get_model()`; takes either a name or an OIFM ID as its parameter."
   ]
  },
  {
   "cell_type": "code",
   "execution_count": 5,
   "id": "343fbb64",
   "metadata": {},
   "outputs": [
    {
     "data": {
      "text/plain": [
       "FindingModelFull(oifm_id='OIFM_MSFT_134126', name='abdominal aortic aneurysm', description='An abdominal aortic aneurysm (AAA) is a localized dilation of the abdominal aorta, typically defined as a diameter greater than 3 cm, which can lead to rupture and significant morbidity or mortality.', synonyms=['AAA'], tags=None, attributes=[ChoiceAttributeIded(oifma_id='OIFMA_MSFT_898601', name='presence', description='Presence or absence of abdominal aortic aneurysm', type=<AttributeType.CHOICE: 'choice'>, values=[ChoiceValueIded(value_code='OIFMA_MSFT_898601.0', name='absent', description='Abdominal aortic aneurysm is absent', index_codes=None), ChoiceValueIded(value_code='OIFMA_MSFT_898601.1', name='present', description='Abdominal aortic aneurysm is present', index_codes=None), ChoiceValueIded(value_code='OIFMA_MSFT_898601.2', name='indeterminate', description='Presence of abdominal aortic aneurysm cannot be determined', index_codes=None), ChoiceValueIded(value_code='OIFMA_MSFT_898601.3', name='unknown', description='Presence of abdominal aortic aneurysm is unknown', index_codes=None)], required=False, max_selected=1, index_codes=None), ChoiceAttributeIded(oifma_id='OIFMA_MSFT_783072', name='change from prior', description='Whether and how a abdominal aortic aneurysm has changed over time', type=<AttributeType.CHOICE: 'choice'>, values=[ChoiceValueIded(value_code='OIFMA_MSFT_783072.0', name='unchanged', description='Abdominal aortic aneurysm is unchanged', index_codes=None), ChoiceValueIded(value_code='OIFMA_MSFT_783072.1', name='stable', description='Abdominal aortic aneurysm is stable', index_codes=None), ChoiceValueIded(value_code='OIFMA_MSFT_783072.2', name='increased', description='Abdominal aortic aneurysm has increased', index_codes=None), ChoiceValueIded(value_code='OIFMA_MSFT_783072.3', name='decreased', description='Abdominal aortic aneurysm has decreased', index_codes=None), ChoiceValueIded(value_code='OIFMA_MSFT_783072.4', name='new', description='Abdominal aortic aneurysm is new', index_codes=None)], required=False, max_selected=1, index_codes=None)], index_codes=None)"
      ]
     },
     "execution_count": 5,
     "metadata": {},
     "output_type": "execute_result"
    }
   ],
   "source": [
    "repo.get_model(\"abdominal aortic aneurysm\")"
   ]
  },
  {
   "cell_type": "code",
   "execution_count": 6,
   "id": "bacc5758",
   "metadata": {},
   "outputs": [
    {
     "data": {
      "text/plain": [
       "[PosixPath('data/defs/ventricular_diameters.fm.json'),\n",
       " PosixPath('data/defs/breast_malignancy_risk.fm.json'),\n",
       " PosixPath('data/defs/pulmonary_embolism.fm.json'),\n",
       " PosixPath('data/defs/abdominal_aortic_aneurysm.fm.json'),\n",
       " PosixPath('data/defs/breast_density.fm.json'),\n",
       " PosixPath('data/defs/aortic_dissection.fm.json')]"
      ]
     },
     "execution_count": 6,
     "metadata": {},
     "output_type": "execute_result"
    }
   ],
   "source": [
    "list(repo._models_path.iterdir())"
   ]
  },
  {
   "cell_type": "markdown",
   "id": "44e3336b",
   "metadata": {},
   "source": [
    "## Save to Repository"
   ]
  },
  {
   "cell_type": "markdown",
   "id": "af21e044",
   "metadata": {},
   "source": [
    "We can save a new model to the repository. We can start with an ID-less `FindingModelBase`; when we save it, we will get back a `FindingModelFull` with IDs. Note that you need to provide a 3- or 4-letter source code (e.g., \"MGB\", \"MSFT\") to save an ID-less model."
   ]
  },
  {
   "cell_type": "code",
   "execution_count": 7,
   "id": "4070a204",
   "metadata": {},
   "outputs": [],
   "source": [
    "new_model = fm.FindingModelBase(\n",
    "    name=\"Test Model\",\n",
    "    description=\"A simple test finding model.\",\n",
    "    synonyms=[\"Test Synonym\"],\n",
    "    tags=[\"tag1\", \"tag2\"],\n",
    "    attributes=[\n",
    "        fm.finding_model.ChoiceAttribute(\n",
    "            name=\"Severity\",\n",
    "            values=[fm.finding_model.ChoiceValue(name=\"Mild\"), fm.finding_model.ChoiceValue(name=\"Severe\")],\n",
    "            description=\"How severe is the finding?\",\n",
    "            required=True,\n",
    "            max_selected=1,\n",
    "        ),\n",
    "        fm.finding_model.NumericAttribute(\n",
    "            name=\"Size\",\n",
    "            description=\"Size of the finding.\",\n",
    "            minimum=1,\n",
    "            maximum=10,\n",
    "            unit=\"cm\",\n",
    "            required=False,\n",
    "        ),\n",
    "    ],\n",
    ")"
   ]
  },
  {
   "cell_type": "code",
   "execution_count": 8,
   "id": "ee4b2c85",
   "metadata": {},
   "outputs": [],
   "source": [
    "saved_model = repo.save_model(new_model, source=\"TEST\")"
   ]
  },
  {
   "cell_type": "code",
   "execution_count": 9,
   "id": "6507bb55",
   "metadata": {},
   "outputs": [
    {
     "name": "stdout",
     "output_type": "stream",
     "text": [
      "OIFM_TEST_376162\n"
     ]
    }
   ],
   "source": [
    "print(saved_model.oifm_id)"
   ]
  },
  {
   "cell_type": "code",
   "execution_count": 10,
   "id": "4d723b92",
   "metadata": {},
   "outputs": [
    {
     "name": "stdout",
     "output_type": "stream",
     "text": [
      "abdominal aortic aneurysm\n",
      "aortic dissection\n",
      "Breast density\n",
      "Mammographic malignancy assessment\n",
      "pulmonary embolism\n",
      "Test Model\n",
      "Ventricular diameters\n"
     ]
    }
   ],
   "source": [
    "print(\"\\n\".join(repo.model_names))"
   ]
  },
  {
   "cell_type": "code",
   "execution_count": 11,
   "id": "7dd80136",
   "metadata": {},
   "outputs": [
    {
     "data": {
      "text/plain": [
       "7"
      ]
     },
     "execution_count": 11,
     "metadata": {},
     "output_type": "execute_result"
    }
   ],
   "source": [
    "repo._table.count_rows()"
   ]
  },
  {
   "cell_type": "code",
   "execution_count": 12,
   "id": "125a4b90",
   "metadata": {},
   "outputs": [
    {
     "name": "stdout",
     "output_type": "stream",
     "text": [
      "data/defs/ventricular_diameters.fm.json\n",
      "data/defs/breast_malignancy_risk.fm.json\n",
      "data/defs/pulmonary_embolism.fm.json\n",
      "data/defs/abdominal_aortic_aneurysm.fm.json\n",
      "data/defs/breast_density.fm.json\n",
      "data/defs/test_model.fm.json\n",
      "data/defs/aortic_dissection.fm.json\n"
     ]
    }
   ],
   "source": [
    "# Get all the files in the repository's definitions directory\n",
    "def model_files_dir() -> list[str]:\n",
    "    return [str(file) for file in repo._models_path.iterdir() if file.is_file() and file.suffix == \".json\"]\n",
    "\n",
    "\n",
    "print(\"\\n\".join(model_files_dir()))"
   ]
  },
  {
   "cell_type": "markdown",
   "id": "11d903c8",
   "metadata": {},
   "source": [
    "## Delete from Repository"
   ]
  },
  {
   "cell_type": "markdown",
   "id": "04203602",
   "metadata": {},
   "source": [
    "Remove a model from the repo (including deleting the model file in the `defs` directory) using `remove_model()`."
   ]
  },
  {
   "cell_type": "code",
   "execution_count": 13,
   "id": "765ae878",
   "metadata": {},
   "outputs": [],
   "source": [
    "repo.remove_model(saved_model.oifm_id)"
   ]
  },
  {
   "cell_type": "code",
   "execution_count": 14,
   "id": "52d37e00",
   "metadata": {},
   "outputs": [
    {
     "name": "stdout",
     "output_type": "stream",
     "text": [
      "abdominal aortic aneurysm\n",
      "aortic dissection\n",
      "Breast density\n",
      "Mammographic malignancy assessment\n",
      "pulmonary embolism\n",
      "Ventricular diameters\n"
     ]
    }
   ],
   "source": [
    "print(\"\\n\".join(repo.model_names))"
   ]
  },
  {
   "cell_type": "code",
   "execution_count": 15,
   "id": "5621efd9",
   "metadata": {},
   "outputs": [
    {
     "name": "stdout",
     "output_type": "stream",
     "text": [
      "data/defs/ventricular_diameters.fm.json\n",
      "data/defs/breast_malignancy_risk.fm.json\n",
      "data/defs/pulmonary_embolism.fm.json\n",
      "data/defs/abdominal_aortic_aneurysm.fm.json\n",
      "data/defs/breast_density.fm.json\n",
      "data/defs/aortic_dissection.fm.json\n"
     ]
    }
   ],
   "source": [
    "print(\"\\n\".join(model_files_dir()))"
   ]
  },
  {
   "cell_type": "markdown",
   "id": "0c9ed586",
   "metadata": {},
   "source": [
    "## Check for Duplicate IDs"
   ]
  },
  {
   "cell_type": "markdown",
   "id": "02595e42",
   "metadata": {},
   "source": [
    "We can also check a `FindingModelFull` object for IDs (either models or attributes) that have already been used in the database; if any are found, it will be returned as a dictionary where the offending ID will point to a data structure describing the model which already contains that ID."
   ]
  },
  {
   "cell_type": "code",
   "execution_count": 16,
   "id": "938562e0",
   "metadata": {},
   "outputs": [
    {
     "name": "stdout",
     "output_type": "stream",
     "text": [
      "{'OIFM_MSFT_134126': SearchIndexEntry(file='abdominal_aortic_aneurysm.fm.json', id='OIFM_MSFT_134126', name='abdominal aortic aneurysm', slug_name='abdominal_aortic_aneurysm', description='An abdominal aortic aneurysm (AAA) is a localized dilation of the abdominal aorta, typically defined as a diameter greater than 3 cm, which can lead to rupture and significant morbidity or mortality.', synonyms=None, tags=None, index_text='abdominal aortic aneurysm\\nAn abdominal aortic aneurysm (AAA) is a localized dilation of the abdominal aorta, typically defined as a diameter greater than 3 cm, which can lead to rupture and significant morbidity or mortality.\\nAttributes: presence; change from prior', attribute_names=['presence', 'change from prior'], attribute_ids=['OIFMA_MSFT_898601', 'OIFMA_MSFT_783072'], vector=FixedSizeList(dim=3072))}\n"
     ]
    }
   ],
   "source": [
    "saved_model.oifm_id = \"OIFM_MSFT_134126\"\n",
    "errors = repo.check_model_for_duplicate_ids(saved_model)\n",
    "print(errors)"
   ]
  },
  {
   "cell_type": "markdown",
   "id": "35ebc47f",
   "metadata": {},
   "source": [
    "You can also just directly check a model ID or attribute ID with `check_existing_id()`, which will return a data structure where the offending ID is found if it occurs."
   ]
  },
  {
   "cell_type": "code",
   "execution_count": 17,
   "id": "6b0243d9",
   "metadata": {},
   "outputs": [
    {
     "name": "stdout",
     "output_type": "stream",
     "text": [
      "[SearchIndexEntry(file='abdominal_aortic_aneurysm.fm.json', id='OIFM_MSFT_134126', name='abdominal aortic aneurysm', slug_name='abdominal_aortic_aneurysm', description='An abdominal aortic aneurysm (AAA) is a localized dilation of the abdominal aorta, typically defined as a diameter greater than 3 cm, which can lead to rupture and significant morbidity or mortality.', synonyms=None, tags=None, index_text='abdominal aortic aneurysm\\nAn abdominal aortic aneurysm (AAA) is a localized dilation of the abdominal aorta, typically defined as a diameter greater than 3 cm, which can lead to rupture and significant morbidity or mortality.\\nAttributes: presence; change from prior', attribute_names=['presence', 'change from prior'], attribute_ids=['OIFMA_MSFT_898601', 'OIFMA_MSFT_783072'], vector=FixedSizeList(dim=3072))]\n",
      "[]\n"
     ]
    }
   ],
   "source": [
    "error = repo.check_existing_id(\"OIFM_MSFT_134126\")\n",
    "print(error)\n",
    "error = repo.check_existing_id(\"OIFM_TEST_701203\")\n",
    "print(error)"
   ]
  },
  {
   "cell_type": "markdown",
   "id": "5cc1f502",
   "metadata": {},
   "source": [
    "## Search"
   ]
  },
  {
   "cell_type": "code",
   "execution_count": 5,
   "id": "d43cfe9d",
   "metadata": {},
   "outputs": [
    {
     "name": "stdout",
     "output_type": "stream",
     "text": [
      "Searching for 'heart'\n",
      "  Ventricular diameters - OIFM_MSFT_367670 - 0.016\n",
      "  aortic dissection - OIFM_MSFT_573630 - 0.016\n",
      "  pulmonary embolism - OIFM_MSFT_932618 - 0.016\n",
      "Searching for 'breast'\n",
      "  Breast density - OIFM_MSFT_356221 - 0.016\n",
      "  Mammographic malignancy assessment - OIFM_MSFT_156954 - 0.016\n",
      "  aortic dissection - OIFM_MSFT_573630 - 0.016\n",
      "Searching for 'abdomen'\n",
      "  abdominal aortic aneurysm - OIFM_MSFT_134126 - 0.016\n",
      "  aortic dissection - OIFM_MSFT_573630 - 0.016\n",
      "  pulmonary embolism - OIFM_MSFT_932618 - 0.016\n",
      "Searching for 'lung'\n",
      "  pulmonary embolism - OIFM_MSFT_932618 - 0.016\n",
      "  abdominal aortic aneurysm - OIFM_MSFT_134126 - 0.016\n",
      "  aortic dissection - OIFM_MSFT_573630 - 0.016\n"
     ]
    }
   ],
   "source": [
    "SEARCH_TERMS = [\"heart\", \"breast\", \"abdomen\", \"lung\"]\n",
    "for term in SEARCH_TERMS:\n",
    "    print(f\"Searching for '{term}'\")\n",
    "    for summary in repo.search_summary(term):\n",
    "        print(f\"  {summary.name} - {summary.id} - {summary.score:.3f}\")\n"
   ]
  },
  {
   "cell_type": "code",
   "execution_count": 4,
   "id": "61ca453b",
   "metadata": {},
   "outputs": [
    {
     "name": "stdout",
     "output_type": "stream",
     "text": [
      "Searching for 'heart'\n",
      "  Ventricular diameters - OIFM_MSFT_367670 - 0.016\n",
      "  aortic dissection - OIFM_MSFT_573630 - 0.016\n",
      "  pulmonary embolism - OIFM_MSFT_932618 - 0.016\n",
      "Searching for 'breast'\n",
      "  Breast density - OIFM_MSFT_356221 - 0.016\n",
      "  Mammographic malignancy assessment - OIFM_MSFT_156954 - 0.016\n",
      "  aortic dissection - OIFM_MSFT_573630 - 0.016\n",
      "Searching for 'abdomen'\n",
      "  abdominal aortic aneurysm - OIFM_MSFT_134126 - 0.016\n",
      "  aortic dissection - OIFM_MSFT_573630 - 0.016\n",
      "  pulmonary embolism - OIFM_MSFT_932618 - 0.016\n",
      "Searching for 'lung'\n",
      "  pulmonary embolism - OIFM_MSFT_932618 - 0.016\n",
      "  abdominal aortic aneurysm - OIFM_MSFT_134126 - 0.016\n",
      "  aortic dissection - OIFM_MSFT_573630 - 0.016\n"
     ]
    }
   ],
   "source": [
    "for term in SEARCH_TERMS:\n",
    "    print(f\"Searching for '{term}'\")\n",
    "    for model, score in repo.search_models(term):\n",
    "        print(f\"  {model.name} - {model.oifm_id} - {score:.3f}\")"
   ]
  },
  {
   "cell_type": "code",
   "execution_count": null,
   "id": "a120756d",
   "metadata": {},
   "outputs": [],
   "source": []
  }
 ],
 "metadata": {
  "kernelspec": {
   "display_name": ".venv",
   "language": "python",
   "name": "python3"
  },
  "language_info": {
   "codemirror_mode": {
    "name": "ipython",
    "version": 3
   },
   "file_extension": ".py",
   "mimetype": "text/x-python",
   "name": "python",
   "nbconvert_exporter": "python",
   "pygments_lexer": "ipython3",
   "version": "3.11.12"
  }
 },
 "nbformat": 4,
 "nbformat_minor": 5
}
